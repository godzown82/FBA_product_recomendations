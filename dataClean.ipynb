{
 "cells": [
  {
   "cell_type": "code",
   "execution_count": null,
   "metadata": {},
   "outputs": [],
   "source": [
    "import pandas as pd \n",
    "import seaborn as sns\n",
    "import gitconfig"
   ]
  },
  {
   "cell_type": "markdown",
   "metadata": {},
   "source": [
    "## Data preprocessing:\n"
   ]
  },
  {
   "cell_type": "code",
   "execution_count": null,
   "metadata": {},
   "outputs": [],
   "source": [
    "env_path = gitconfig.env_path\n",
    "env_path\n",
    "data_df = pd.read_csv(f'{env_path}/amazon.csv')\n",
    "data_df.head()"
   ]
  },
  {
   "cell_type": "markdown",
   "metadata": {},
   "source": [
    "### Replace special characters and columns with number values to numbers"
   ]
  },
  {
   "cell_type": "code",
   "execution_count": null,
   "metadata": {},
   "outputs": [],
   "source": [
    "#gather all the columns that need to be converted\n",
    "cols = ['discounted_price','actual_price','rating','discount_percentage','rating_count'] \n",
    "\n",
    "for col in cols:\n",
    "    #remove the '₹' character from the pricing columns\n",
    "    data_df[col] = data_df[col].str.replace('[₹]', '', regex=True)\n",
    "    #remove the '%' character from the discount percentage column\n",
    "    data_df[col] = data_df[col].str.replace('[%]', '', regex=True)\n",
    "    #remove the ',' character from the discount percentage column\n",
    "    data_df[col] = data_df[col].str.replace('[,]', '', regex=True)\n",
    "    #convert the columns to numerics\n",
    "    data_df[col] = pd.to_numeric(data_df[col],errors='coerce')\n",
    "\n",
    "data_df\n"
   ]
  }
 ],
 "metadata": {
  "kernelspec": {
   "display_name": "dev",
   "language": "python",
   "name": "python3"
  },
  "language_info": {
   "codemirror_mode": {
    "name": "ipython",
    "version": 3
   },
   "file_extension": ".py",
   "mimetype": "text/x-python",
   "name": "python",
   "nbconvert_exporter": "python",
   "pygments_lexer": "ipython3",
   "version": "3.11.9"
  }
 },
 "nbformat": 4,
 "nbformat_minor": 2
}
